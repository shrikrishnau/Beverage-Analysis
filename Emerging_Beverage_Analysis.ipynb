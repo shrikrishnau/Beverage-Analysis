{
  "nbformat": 4,
  "nbformat_minor": 0,
  "metadata": {
    "colab": {
      "provenance": [],
      "authorship_tag": "ABX9TyOexfyJZo7oH80YkGE0w5Uu",
      "include_colab_link": true
    },
    "kernelspec": {
      "name": "python3",
      "display_name": "Python 3"
    },
    "language_info": {
      "name": "python"
    }
  },
  "cells": [
    {
      "cell_type": "markdown",
      "metadata": {
        "id": "view-in-github",
        "colab_type": "text"
      },
      "source": [
        "<a href=\"https://colab.research.google.com/github/shrikrishnau/Beverage-Analysis/blob/main/Emerging_Beverage_Analysis.ipynb\" target=\"_parent\"><img src=\"https://colab.research.google.com/assets/colab-badge.svg\" alt=\"Open In Colab\"/></a>"
      ]
    },
    {
      "cell_type": "markdown",
      "source": [
        "Importing Necessary Libraries"
      ],
      "metadata": {
        "id": "V-83yCWsvZfV"
      }
    },
    {
      "cell_type": "code",
      "execution_count": 27,
      "metadata": {
        "id": "nA2au3Y1-pmF"
      },
      "outputs": [],
      "source": [
        "import pandas as pd\n",
        "import seaborn as sns\n",
        "import matplotlib.pyplot as plt"
      ]
    },
    {
      "cell_type": "markdown",
      "source": [
        "Importing File from Google Drive"
      ],
      "metadata": {
        "id": "Z19V98rnveu8"
      }
    },
    {
      "cell_type": "code",
      "source": [
        "from google.colab import drive\n",
        "drive.mount('/content/drive')\n"
      ],
      "metadata": {
        "colab": {
          "base_uri": "https://localhost:8080/"
        },
        "id": "jbd7AgnE_Afs",
        "outputId": "aa754fb7-b373-48e5-da02-e143480139b9"
      },
      "execution_count": 39,
      "outputs": [
        {
          "output_type": "stream",
          "name": "stdout",
          "text": [
            "Drive already mounted at /content/drive; to attempt to forcibly remount, call drive.mount(\"/content/drive\", force_remount=True).\n"
          ]
        }
      ]
    },
    {
      "cell_type": "code",
      "source": [
        "x=\"/content/drive/MyDrive/Colab Notebooks/Case Study/Product Launch data.xlsx\"\n",
        "df=pd.read_excel(x)"
      ],
      "metadata": {
        "id": "_cvV56JR_AYM"
      },
      "execution_count": 40,
      "outputs": []
    },
    {
      "cell_type": "code",
      "source": [
        "df.head(10)"
      ],
      "metadata": {
        "colab": {
          "base_uri": "https://localhost:8080/",
          "height": 363
        },
        "id": "M7wgip5Y_AUe",
        "outputId": "fb9aa208-70e1-4f66-8c5f-8ad6e570c1f7"
      },
      "execution_count": 30,
      "outputs": [
        {
          "output_type": "execute_result",
          "data": {
            "text/plain": [
              "   Product id                                         Flavor  \\\n",
              "0       26772                Ginger Beer; Rum, Not specified   \n",
              "1       34656                           Berry, not specified   \n",
              "2       34658                         Mango; Banana; Coconut   \n",
              "3       34690    Tea, black; Guarana; Ginseng, not specified   \n",
              "4       34735                               Strawberry; Kiwi   \n",
              "5       34853           Coffee, Not specified; Coffee, Mocha   \n",
              "6       34856  Coffee, not specified; Vanilla, not specified   \n",
              "7       34926                           Fruit, not specified   \n",
              "8       34927                                       Lemonade   \n",
              "9       34928                                     Tea, black   \n",
              "\n",
              "     Market Subcategory Launch Date Country         Region  \\\n",
              "0            Carbonates  2008-01-01     NA3  North America   \n",
              "1  Juice & Juice Drinks  2006-01-01     NA2  North America   \n",
              "2  Juice & Juice Drinks  2006-01-01     NA2  North America   \n",
              "3         Energy Drinks  2006-01-01     NA2  North America   \n",
              "4  Juice & Juice Drinks  2006-01-01     NA2  North America   \n",
              "5         Energy Drinks  2006-01-01     NA2  North America   \n",
              "6         Energy Drinks  2006-01-01     NA2  North America   \n",
              "7         Energy Drinks  2006-01-01     NA2  North America   \n",
              "8         Energy Drinks  2006-01-01     NA2  North America   \n",
              "9         Energy Drinks  2006-01-01     NA2  North America   \n",
              "\n",
              "                                         Positioning  \n",
              "0    Traditional, Natural, Convenience - Consumption  \n",
              "1  100% Not from Concentrate, No Additives/Preser...  \n",
              "2  100% Not from Concentrate, No Additives/Preser...  \n",
              "3  Brain Health, Energy/Alertness, Convenience - ...  \n",
              "4   100% Reconstituted, No Added Sugar, Heart Health  \n",
              "5        Energy/Alertness, Convenience - Consumption  \n",
              "6        Energy/Alertness, Convenience - Consumption  \n",
              "7  Natural, Energy/Alertness, Convenience - Consu...  \n",
              "8  Natural, Energy/Alertness, Convenience - Consu...  \n",
              "9  Natural, Energy/Alertness, Convenience - Consu...  "
            ],
            "text/html": [
              "\n",
              "  <div id=\"df-cadd7502-5487-4189-a5ba-ed35a81b9149\">\n",
              "    <div class=\"colab-df-container\">\n",
              "      <div>\n",
              "<style scoped>\n",
              "    .dataframe tbody tr th:only-of-type {\n",
              "        vertical-align: middle;\n",
              "    }\n",
              "\n",
              "    .dataframe tbody tr th {\n",
              "        vertical-align: top;\n",
              "    }\n",
              "\n",
              "    .dataframe thead th {\n",
              "        text-align: right;\n",
              "    }\n",
              "</style>\n",
              "<table border=\"1\" class=\"dataframe\">\n",
              "  <thead>\n",
              "    <tr style=\"text-align: right;\">\n",
              "      <th></th>\n",
              "      <th>Product id</th>\n",
              "      <th>Flavor</th>\n",
              "      <th>Market Subcategory</th>\n",
              "      <th>Launch Date</th>\n",
              "      <th>Country</th>\n",
              "      <th>Region</th>\n",
              "      <th>Positioning</th>\n",
              "    </tr>\n",
              "  </thead>\n",
              "  <tbody>\n",
              "    <tr>\n",
              "      <th>0</th>\n",
              "      <td>26772</td>\n",
              "      <td>Ginger Beer; Rum, Not specified</td>\n",
              "      <td>Carbonates</td>\n",
              "      <td>2008-01-01</td>\n",
              "      <td>NA3</td>\n",
              "      <td>North America</td>\n",
              "      <td>Traditional, Natural, Convenience - Consumption</td>\n",
              "    </tr>\n",
              "    <tr>\n",
              "      <th>1</th>\n",
              "      <td>34656</td>\n",
              "      <td>Berry, not specified</td>\n",
              "      <td>Juice &amp; Juice Drinks</td>\n",
              "      <td>2006-01-01</td>\n",
              "      <td>NA2</td>\n",
              "      <td>North America</td>\n",
              "      <td>100% Not from Concentrate, No Additives/Preser...</td>\n",
              "    </tr>\n",
              "    <tr>\n",
              "      <th>2</th>\n",
              "      <td>34658</td>\n",
              "      <td>Mango; Banana; Coconut</td>\n",
              "      <td>Juice &amp; Juice Drinks</td>\n",
              "      <td>2006-01-01</td>\n",
              "      <td>NA2</td>\n",
              "      <td>North America</td>\n",
              "      <td>100% Not from Concentrate, No Additives/Preser...</td>\n",
              "    </tr>\n",
              "    <tr>\n",
              "      <th>3</th>\n",
              "      <td>34690</td>\n",
              "      <td>Tea, black; Guarana; Ginseng, not specified</td>\n",
              "      <td>Energy Drinks</td>\n",
              "      <td>2006-01-01</td>\n",
              "      <td>NA2</td>\n",
              "      <td>North America</td>\n",
              "      <td>Brain Health, Energy/Alertness, Convenience - ...</td>\n",
              "    </tr>\n",
              "    <tr>\n",
              "      <th>4</th>\n",
              "      <td>34735</td>\n",
              "      <td>Strawberry; Kiwi</td>\n",
              "      <td>Juice &amp; Juice Drinks</td>\n",
              "      <td>2006-01-01</td>\n",
              "      <td>NA2</td>\n",
              "      <td>North America</td>\n",
              "      <td>100% Reconstituted, No Added Sugar, Heart Health</td>\n",
              "    </tr>\n",
              "    <tr>\n",
              "      <th>5</th>\n",
              "      <td>34853</td>\n",
              "      <td>Coffee, Not specified; Coffee, Mocha</td>\n",
              "      <td>Energy Drinks</td>\n",
              "      <td>2006-01-01</td>\n",
              "      <td>NA2</td>\n",
              "      <td>North America</td>\n",
              "      <td>Energy/Alertness, Convenience - Consumption</td>\n",
              "    </tr>\n",
              "    <tr>\n",
              "      <th>6</th>\n",
              "      <td>34856</td>\n",
              "      <td>Coffee, not specified; Vanilla, not specified</td>\n",
              "      <td>Energy Drinks</td>\n",
              "      <td>2006-01-01</td>\n",
              "      <td>NA2</td>\n",
              "      <td>North America</td>\n",
              "      <td>Energy/Alertness, Convenience - Consumption</td>\n",
              "    </tr>\n",
              "    <tr>\n",
              "      <th>7</th>\n",
              "      <td>34926</td>\n",
              "      <td>Fruit, not specified</td>\n",
              "      <td>Energy Drinks</td>\n",
              "      <td>2006-01-01</td>\n",
              "      <td>NA2</td>\n",
              "      <td>North America</td>\n",
              "      <td>Natural, Energy/Alertness, Convenience - Consu...</td>\n",
              "    </tr>\n",
              "    <tr>\n",
              "      <th>8</th>\n",
              "      <td>34927</td>\n",
              "      <td>Lemonade</td>\n",
              "      <td>Energy Drinks</td>\n",
              "      <td>2006-01-01</td>\n",
              "      <td>NA2</td>\n",
              "      <td>North America</td>\n",
              "      <td>Natural, Energy/Alertness, Convenience - Consu...</td>\n",
              "    </tr>\n",
              "    <tr>\n",
              "      <th>9</th>\n",
              "      <td>34928</td>\n",
              "      <td>Tea, black</td>\n",
              "      <td>Energy Drinks</td>\n",
              "      <td>2006-01-01</td>\n",
              "      <td>NA2</td>\n",
              "      <td>North America</td>\n",
              "      <td>Natural, Energy/Alertness, Convenience - Consu...</td>\n",
              "    </tr>\n",
              "  </tbody>\n",
              "</table>\n",
              "</div>\n",
              "      <button class=\"colab-df-convert\" onclick=\"convertToInteractive('df-cadd7502-5487-4189-a5ba-ed35a81b9149')\"\n",
              "              title=\"Convert this dataframe to an interactive table.\"\n",
              "              style=\"display:none;\">\n",
              "        \n",
              "  <svg xmlns=\"http://www.w3.org/2000/svg\" height=\"24px\"viewBox=\"0 0 24 24\"\n",
              "       width=\"24px\">\n",
              "    <path d=\"M0 0h24v24H0V0z\" fill=\"none\"/>\n",
              "    <path d=\"M18.56 5.44l.94 2.06.94-2.06 2.06-.94-2.06-.94-.94-2.06-.94 2.06-2.06.94zm-11 1L8.5 8.5l.94-2.06 2.06-.94-2.06-.94L8.5 2.5l-.94 2.06-2.06.94zm10 10l.94 2.06.94-2.06 2.06-.94-2.06-.94-.94-2.06-.94 2.06-2.06.94z\"/><path d=\"M17.41 7.96l-1.37-1.37c-.4-.4-.92-.59-1.43-.59-.52 0-1.04.2-1.43.59L10.3 9.45l-7.72 7.72c-.78.78-.78 2.05 0 2.83L4 21.41c.39.39.9.59 1.41.59.51 0 1.02-.2 1.41-.59l7.78-7.78 2.81-2.81c.8-.78.8-2.07 0-2.86zM5.41 20L4 18.59l7.72-7.72 1.47 1.35L5.41 20z\"/>\n",
              "  </svg>\n",
              "      </button>\n",
              "      \n",
              "  <style>\n",
              "    .colab-df-container {\n",
              "      display:flex;\n",
              "      flex-wrap:wrap;\n",
              "      gap: 12px;\n",
              "    }\n",
              "\n",
              "    .colab-df-convert {\n",
              "      background-color: #E8F0FE;\n",
              "      border: none;\n",
              "      border-radius: 50%;\n",
              "      cursor: pointer;\n",
              "      display: none;\n",
              "      fill: #1967D2;\n",
              "      height: 32px;\n",
              "      padding: 0 0 0 0;\n",
              "      width: 32px;\n",
              "    }\n",
              "\n",
              "    .colab-df-convert:hover {\n",
              "      background-color: #E2EBFA;\n",
              "      box-shadow: 0px 1px 2px rgba(60, 64, 67, 0.3), 0px 1px 3px 1px rgba(60, 64, 67, 0.15);\n",
              "      fill: #174EA6;\n",
              "    }\n",
              "\n",
              "    [theme=dark] .colab-df-convert {\n",
              "      background-color: #3B4455;\n",
              "      fill: #D2E3FC;\n",
              "    }\n",
              "\n",
              "    [theme=dark] .colab-df-convert:hover {\n",
              "      background-color: #434B5C;\n",
              "      box-shadow: 0px 1px 3px 1px rgba(0, 0, 0, 0.15);\n",
              "      filter: drop-shadow(0px 1px 2px rgba(0, 0, 0, 0.3));\n",
              "      fill: #FFFFFF;\n",
              "    }\n",
              "  </style>\n",
              "\n",
              "      <script>\n",
              "        const buttonEl =\n",
              "          document.querySelector('#df-cadd7502-5487-4189-a5ba-ed35a81b9149 button.colab-df-convert');\n",
              "        buttonEl.style.display =\n",
              "          google.colab.kernel.accessAllowed ? 'block' : 'none';\n",
              "\n",
              "        async function convertToInteractive(key) {\n",
              "          const element = document.querySelector('#df-cadd7502-5487-4189-a5ba-ed35a81b9149');\n",
              "          const dataTable =\n",
              "            await google.colab.kernel.invokeFunction('convertToInteractive',\n",
              "                                                     [key], {});\n",
              "          if (!dataTable) return;\n",
              "\n",
              "          const docLinkHtml = 'Like what you see? Visit the ' +\n",
              "            '<a target=\"_blank\" href=https://colab.research.google.com/notebooks/data_table.ipynb>data table notebook</a>'\n",
              "            + ' to learn more about interactive tables.';\n",
              "          element.innerHTML = '';\n",
              "          dataTable['output_type'] = 'display_data';\n",
              "          await google.colab.output.renderOutput(dataTable, element);\n",
              "          const docLink = document.createElement('div');\n",
              "          docLink.innerHTML = docLinkHtml;\n",
              "          element.appendChild(docLink);\n",
              "        }\n",
              "      </script>\n",
              "    </div>\n",
              "  </div>\n",
              "  "
            ]
          },
          "metadata": {},
          "execution_count": 30
        }
      ]
    },
    {
      "cell_type": "markdown",
      "source": [
        "Mapping and Key "
      ],
      "metadata": {
        "id": "bODbToDdLq6O"
      }
    },
    {
      "cell_type": "code",
      "source": [
        "class my_dictionary(dict): \n",
        "  \n",
        "    # __init__ function \n",
        "    def __init__(self): \n",
        "        self = dict() \n",
        "          \n",
        "    # Function to add key:value \n",
        "    def add(self, key, value): \n",
        "        self[key] = value\n",
        "\n",
        "\n",
        "\n",
        "flavors = df[\"Flavor\"]\n",
        "flavor_list = []\n",
        "fla_obj = my_dictionary()\n",
        "for x in flavors:\n",
        "  fr = str(x).split(\";\")\n",
        "  print(fr)\n",
        "  # flavor_list.append()\n",
        "  for y in fr:\n",
        "    print(y);\n",
        "    y = y.lower()\n",
        "    y = y.replace(\" \", \"\")\n",
        "    print(\"y value:\" + str(y))\n",
        "    if y in flavor_list :\n",
        "      # print(\"$y contains\")\n",
        "      # print(fla_obj[y])\n",
        "      fla_obj[y] = fla_obj[y] + 1\n",
        "      # print(fla_obj[y])\n",
        "    else :\n",
        "      flavor_list.append(y)\n",
        "      fla_obj.add(y,0)\n",
        "\n",
        "  print(len(flavor_list));\n"
      ],
      "metadata": {
        "id": "yqlq9bFr__3T"
      },
      "execution_count": null,
      "outputs": []
    },
    {
      "cell_type": "markdown",
      "source": [
        "Total Unique Flavors in the list"
      ],
      "metadata": {
        "id": "eSDsm5Pcwcmp"
      }
    },
    {
      "cell_type": "code",
      "source": [
        "print(\"flavor list: \" + str(len(flavor_list)))\n",
        "print(len(fla_obj))"
      ],
      "metadata": {
        "colab": {
          "base_uri": "https://localhost:8080/"
        },
        "id": "HQwqm9x5LqMl",
        "outputId": "e6312f95-f559-4ea7-89b8-93a6b5a5df53"
      },
      "execution_count": 32,
      "outputs": [
        {
          "output_type": "stream",
          "name": "stdout",
          "text": [
            "flavor list: 439\n",
            "439\n"
          ]
        }
      ]
    },
    {
      "cell_type": "markdown",
      "source": [
        "Defining Market Subcategory"
      ],
      "metadata": {
        "id": "6DgnJWbHL6Ag"
      }
    },
    {
      "cell_type": "code",
      "source": [
        "# sc = df[\"Market Subcategory\"]\n",
        "# print(len(sc))\n",
        "\n",
        "sub_list = my_dictionary()\n",
        " \n",
        "for x in flavor_list :\n",
        "   sub_list.add(x,[])\n",
        "\n",
        "# for i in df[\"Flavor\"] :\n",
        "#   print(i)\n",
        "# print(len(sub_list))\n",
        "# print(df[\"Market Subcategory\"][0]);\n",
        "\n",
        "for idx, x in df['Flavor'].iteritems() : \n",
        "  x =  str(x).split(\";\")\n",
        "  sc =  df[\"Market Subcategory\"][idx];\n",
        "  for y in x:\n",
        "    # print(y);\n",
        "    y = y.lower()\n",
        "    y = y.replace(\" \", \"\")\n",
        "    if sc not in sub_list[y] :\n",
        "      sub_list[y].append(sc)\n",
        "    # else :\n",
        "      \n",
        "\n",
        "print(sub_list)\n"
      ],
      "metadata": {
        "colab": {
          "base_uri": "https://localhost:8080/"
        },
        "id": "xOP3fByRMzie",
        "outputId": "e6cf297e-e38f-4306-9469-1b71128a39a9"
      },
      "execution_count": 33,
      "outputs": [
        {
          "output_type": "stream",
          "name": "stdout",
          "text": [
            "{'gingerbeer': ['Carbonates'], 'rum,notspecified': ['Carbonates', 'Drink Concentrates & Mixes'], 'berry,notspecified': ['Juice & Juice Drinks', 'Drink Concentrates & Mixes', 'Energy Drinks', 'Bottled Water - Flavoured', 'Iced Tea', 'Other Soft Drinks', 'Sports Drinks RTD', 'Carbonates', 'Sports Powders'], 'mango': ['Juice & Juice Drinks', 'Bottled Water - Flavoured', 'Carbonates', 'Drink Concentrates & Mixes', 'Energy Drinks', 'Iced Tea', 'Other Soft Drinks', 'Sports Drinks RTD', 'Sports Powders'], 'banana': ['Juice & Juice Drinks', 'Drink Concentrates & Mixes', 'Carbonates', 'Energy Drinks', 'Sports Drinks RTD', 'Iced Tea', 'Bottled Water - Flavoured', 'Other Soft Drinks'], 'coconut': ['Juice & Juice Drinks', 'Drink Concentrates & Mixes', 'Other Soft Drinks', 'Sports Drinks RTD', 'Energy Drinks', 'Bottled Water - Flavoured', 'Carbonates', 'Iced Coffee', 'Sports Powders', 'Iced Tea'], 'tea,black': ['Energy Drinks', 'Iced Tea', 'Drink Concentrates & Mixes', 'Juice & Juice Drinks', 'Iced Coffee', 'Bottled Water - Flavoured', 'Other Soft Drinks'], 'guarana': ['Energy Drinks', 'Carbonates', 'Sports Drinks RTD', 'Iced Tea', 'Juice & Juice Drinks', 'Bottled Water - Flavoured', 'Iced Coffee'], 'ginseng,notspecified': ['Energy Drinks', 'Iced Tea', 'Sports Drinks RTD', 'Bottled Water - Flavoured', 'Drink Concentrates & Mixes', 'Other Soft Drinks', 'Juice & Juice Drinks', 'Iced Coffee'], 'strawberry': ['Juice & Juice Drinks', 'Bottled Water - Flavoured', 'Drink Concentrates & Mixes', 'Iced Tea', 'Other Soft Drinks', 'Iced Coffee', 'Sports Drinks RTD', 'Energy Drinks', 'Carbonates', 'Sports Powders'], 'kiwi': ['Juice & Juice Drinks', 'Bottled Water - Flavoured', 'Iced Tea', 'Other Soft Drinks', 'Drink Concentrates & Mixes', 'Energy Drinks', 'Sports Drinks RTD', 'Sports Powders', 'Carbonates'], 'coffee,notspecified': ['Energy Drinks', 'Iced Coffee', 'Drink Concentrates & Mixes', 'Juice & Juice Drinks', 'Bottled Water - Flavoured', 'Iced Tea', 'Other Soft Drinks', 'Carbonates'], 'coffee,mocha': ['Energy Drinks', 'Iced Coffee', 'Drink Concentrates & Mixes', 'Iced Tea', 'Juice & Juice Drinks'], 'vanilla,notspecified': ['Energy Drinks', 'Iced Coffee', 'Iced Tea', 'Drink Concentrates & Mixes', 'Carbonates', 'Sports Drinks RTD', 'Other Soft Drinks', 'Juice & Juice Drinks', 'Bottled Water - Flavoured'], 'fruit,notspecified': ['Energy Drinks', 'Juice & Juice Drinks', 'Drink Concentrates & Mixes', 'Carbonates', 'Bottled Water - Flavoured', 'Sports Drinks RTD', 'Other Soft Drinks', 'Iced Tea', 'Sports Powders'], 'lemonade': ['Energy Drinks', 'Juice & Juice Drinks', 'Drink Concentrates & Mixes', 'Carbonates', 'Iced Tea', 'Bottled Water - Flavoured', 'Iced Coffee', 'Sports Drinks RTD', 'Sports Powders', 'Other Soft Drinks'], 'tea,red': ['Iced Tea', 'Juice & Juice Drinks'], 'milk,notspecified': ['Iced Tea', 'Drink Concentrates & Mixes', 'Other Soft Drinks', 'Iced Coffee', 'Energy Drinks'], 'apple,red': ['Juice & Juice Drinks', 'Other Soft Drinks', 'Bottled Water - Flavoured', 'Carbonates', 'Drink Concentrates & Mixes', 'Energy Drinks', 'Iced Tea', 'Sports Powders'], 'lime': ['Juice & Juice Drinks', 'Drink Concentrates & Mixes', 'Bottled Water - Flavoured', 'Carbonates', 'Other Soft Drinks', 'Iced Tea', 'Energy Drinks', 'Sports Drinks RTD', 'Iced Coffee', 'Sports Powders'], 'superfruit,goji': ['Juice & Juice Drinks', 'Energy Drinks', 'Other Soft Drinks', 'Iced Tea', 'Sports Drinks RTD', 'Drink Concentrates & Mixes', 'Bottled Water - Flavoured'], 'berry,blueberry': ['Juice & Juice Drinks', 'Drink Concentrates & Mixes', 'Bottled Water - Flavoured', 'Iced Tea', 'Energy Drinks', 'Sports Drinks RTD', 'Iced Coffee', 'Other Soft Drinks', 'Carbonates', 'Sports Powders'], 'superfruit,acai': ['Juice & Juice Drinks', 'Bottled Water - Flavoured', 'Drink Concentrates & Mixes', 'Other Soft Drinks', 'Iced Tea', 'Energy Drinks', 'Sports Drinks RTD', 'Carbonates', 'Sports Powders', 'Iced Coffee'], 'unflavored': ['Bottled Water - Unflavoured', 'Sports Drinks RTD', 'Drink Concentrates & Mixes', 'Carbonates', 'Energy Drinks', 'Other Soft Drinks', 'Juice & Juice Drinks', 'Sports Powders', 'Iced Tea', 'Bottled Water - Flavoured'], 'superfruit,pomegranate': ['Juice & Juice Drinks', 'Bottled Water - Flavoured', 'Other Soft Drinks', 'Drink Concentrates & Mixes', 'Carbonates', 'Energy Drinks', 'Iced Tea', 'Iced Coffee', 'Sports Drinks RTD', 'Sports Powders'], 'blueberry': ['Juice & Juice Drinks', 'Bottled Water - Flavoured', 'Drink Concentrates & Mixes', 'Iced Tea', 'Energy Drinks', 'Sports Drinks RTD'], 'vegetables,notspecified': ['Juice & Juice Drinks', 'Other Soft Drinks', 'Energy Drinks', 'Drink Concentrates & Mixes', 'Bottled Water - Flavoured', 'Sports Drinks RTD'], 'tropicalfruit,notspecified': ['Bottled Water - Flavoured', 'Juice & Juice Drinks', 'Drink Concentrates & Mixes', 'Iced Tea', 'Other Soft Drinks', 'Sports Drinks RTD', 'Energy Drinks', 'Sports Powders', 'Carbonates'], 'exoticfruit,notspecified': ['Energy Drinks', 'Juice & Juice Drinks', 'Drink Concentrates & Mixes'], 'melon,notspecified': ['Juice & Juice Drinks', 'Sports Drinks RTD', 'Iced Tea', 'Drink Concentrates & Mixes', 'Iced Coffee', 'Bottled Water - Flavoured', 'Energy Drinks'], 'orange,notspecified': ['Juice & Juice Drinks', 'Bottled Water - Flavoured', 'Drink Concentrates & Mixes', 'Energy Drinks', 'Carbonates', 'Iced Tea', 'Sports Drinks RTD', 'Other Soft Drinks', 'Iced Coffee', 'Sports Powders'], 'superfruit,mangosteen': ['Juice & Juice Drinks', 'Drink Concentrates & Mixes', 'Energy Drinks', 'Bottled Water - Flavoured', 'Iced Tea'], 'grape,red': ['Juice & Juice Drinks', 'Drink Concentrates & Mixes', 'Sports Drinks RTD', 'Energy Drinks', 'Iced Tea', 'Bottled Water - Flavoured', 'Other Soft Drinks', 'Carbonates', 'Sports Powders'], 'coffee,cafeaulait': ['Iced Coffee'], 'tea,notspecified': ['Iced Tea', 'Drink Concentrates & Mixes', 'Bottled Water - Flavoured', 'Other Soft Drinks', 'Energy Drinks', 'Juice & Juice Drinks', 'Carbonates'], 'cola': ['Carbonates', 'Juice & Juice Drinks', 'Energy Drinks', 'Drink Concentrates & Mixes', 'Iced Tea', 'Other Soft Drinks', 'Bottled Water - Flavoured'], 'superfruit,lychee': ['Juice & Juice Drinks', 'Energy Drinks', 'Bottled Water - Flavoured', 'Drink Concentrates & Mixes', 'Iced Tea', 'Other Soft Drinks', 'Sports Drinks RTD', 'Carbonates'], 'lemon': ['Iced Tea', 'Bottled Water - Flavoured', 'Juice & Juice Drinks', 'Drink Concentrates & Mixes', 'Carbonates', 'Sports Drinks RTD', 'Other Soft Drinks', 'Energy Drinks', 'Sports Powders', 'Sports Supplements'], 'peach': ['Juice & Juice Drinks', 'Other Soft Drinks', 'Drink Concentrates & Mixes', 'Energy Drinks', 'Bottled Water - Flavoured', 'Iced Tea', 'Carbonates', 'Sports Drinks RTD'], 'passionfruit': ['Juice & Juice Drinks', 'Carbonates', 'Energy Drinks', 'Other Soft Drinks', 'Drink Concentrates & Mixes', 'Iced Tea', 'Bottled Water - Flavoured', 'Sports Drinks RTD'], 'pineapple': ['Juice & Juice Drinks', 'Other Soft Drinks', 'Sports Drinks RTD', 'Drink Concentrates & Mixes', 'Carbonates', 'Energy Drinks', 'Iced Tea', 'Bottled Water - Flavoured', 'Sports Powders'], 'blackcurrant': ['Juice & Juice Drinks', 'Iced Tea', 'Drink Concentrates & Mixes', 'Carbonates', 'Bottled Water - Flavoured'], 'elderberry': ['Juice & Juice Drinks', 'Bottled Water - Flavoured', 'Iced Tea'], 'guava': ['Juice & Juice Drinks', 'Energy Drinks', 'Iced Tea', 'Drink Concentrates & Mixes', 'Carbonates', 'Sports Drinks RTD', 'Bottled Water - Flavoured', 'Other Soft Drinks'], 'coffee,cappuccino': ['Iced Coffee', 'Drink Concentrates & Mixes'], 'sugar,cane': ['Iced Tea', 'Drink Concentrates & Mixes', 'Juice & Juice Drinks', 'Carbonates', 'Other Soft Drinks', 'Iced Coffee', 'Bottled Water - Flavoured'], 'superfruit,yumberry': ['Juice & Juice Drinks', 'Bottled Water - Flavoured', 'Iced Tea', 'Carbonates'], 'tea,green': ['Iced Tea', 'Drink Concentrates & Mixes', 'Juice & Juice Drinks', 'Energy Drinks', 'Carbonates', 'Bottled Water - Flavoured', 'Iced Coffee', 'Sports Powders', 'Sports Drinks RTD', 'Sports Supplements'], 'honey': ['Iced Tea', 'Drink Concentrates & Mixes', 'Juice & Juice Drinks', 'Other Soft Drinks', 'Carbonates', 'Energy Drinks', 'Bottled Water - Flavoured'], 'lemon-lime': ['Carbonates', 'Drink Concentrates & Mixes', 'Bottled Water - Flavoured', 'Sports Drinks RTD', 'Juice & Juice Drinks', 'Sports Powders', 'Energy Drinks', 'Iced Tea', 'Other Soft Drinks', 'Sports Supplements'], 'cranberry': ['Juice & Juice Drinks', 'Carbonates', 'Drink Concentrates & Mixes', 'Energy Drinks', 'Bottled Water - Flavoured', 'Iced Tea', 'Other Soft Drinks'], 'berry,aronia(chokeberry)': ['Juice & Juice Drinks', 'Bottled Water - Flavoured', 'Other Soft Drinks'], 'tangerine': ['Juice & Juice Drinks', 'Bottled Water - Flavoured', 'Iced Tea', 'Drink Concentrates & Mixes', 'Energy Drinks', 'Carbonates', 'Sports Drinks RTD', 'Other Soft Drinks'], 'coffee,arabica': ['Iced Coffee', 'Drink Concentrates & Mixes', 'Juice & Juice Drinks', 'Energy Drinks'], 'vanilla,madagascan': ['Iced Coffee', 'Juice & Juice Drinks', 'Drink Concentrates & Mixes'], 'tea,chai': ['Iced Tea', 'Drink Concentrates & Mixes'], 'grape,notspecified': ['Juice & Juice Drinks', 'Bottled Water - Flavoured', 'Other Soft Drinks', 'Carbonates', 'Energy Drinks', 'Drink Concentrates & Mixes', 'Iced Tea'], 'berry,mixed': ['Juice & Juice Drinks', 'Bottled Water - Flavoured', 'Energy Drinks', 'Drink Concentrates & Mixes', 'Other Soft Drinks', 'Sports Drinks RTD'], 'raspberry,notspecified': ['Juice & Juice Drinks', 'Drink Concentrates & Mixes', 'Carbonates', 'Energy Drinks', 'Iced Tea', 'Bottled Water - Flavoured', 'Iced Coffee', 'Other Soft Drinks', 'Sports Drinks RTD', 'Sports Powders'], 'berry,cranberry': ['Carbonates', 'Juice & Juice Drinks', 'Drink Concentrates & Mixes', 'Bottled Water - Flavoured', 'Energy Drinks', 'Iced Tea', 'Sports Powders', 'Other Soft Drinks', 'Sports Drinks RTD'], 'citrus,notspecified': ['Bottled Water - Flavoured', 'Juice & Juice Drinks', 'Iced Tea', 'Energy Drinks', 'Drink Concentrates & Mixes', 'Carbonates', 'Sports Drinks RTD', 'Other Soft Drinks', 'Sports Powders', 'Iced Coffee'], 'carrot': ['Juice & Juice Drinks', 'Drink Concentrates & Mixes', 'Iced Tea', 'Other Soft Drinks'], 'ginger': ['Juice & Juice Drinks', 'Drink Concentrates & Mixes', 'Bottled Water - Flavoured', 'Iced Tea', 'Other Soft Drinks', 'Carbonates', 'Energy Drinks', 'Iced Coffee'], 'sorrel': ['Juice & Juice Drinks'], 'sugar,notspecified': ['Drink Concentrates & Mixes', 'Iced Tea', 'Bottled Water - Flavoured', 'Iced Coffee'], 'vinegar,notspecified': ['Other Soft Drinks'], 'osmanthus': ['Juice & Juice Drinks'], 'plum': ['Juice & Juice Drinks', 'Bottled Water - Flavoured', 'Iced Tea', 'Drink Concentrates & Mixes', 'Other Soft Drinks'], 'peach,white': ['Drink Concentrates & Mixes', 'Carbonates', 'Iced Tea', 'Bottled Water - Flavoured'], 'papaya': ['Drink Concentrates & Mixes', 'Juice & Juice Drinks', 'Iced Tea'], 'tea,white': ['Drink Concentrates & Mixes', 'Carbonates', 'Iced Tea', 'Energy Drinks', 'Juice & Juice Drinks', 'Other Soft Drinks'], 'superfruit,dragonfruit': ['Drink Concentrates & Mixes', 'Juice & Juice Drinks', 'Bottled Water - Flavoured', 'Sports Drinks RTD', 'Iced Tea', 'Energy Drinks', 'Other Soft Drinks'], 'berry,blackberry': ['Juice & Juice Drinks', 'Energy Drinks', 'Bottled Water - Flavoured', 'Drink Concentrates & Mixes', 'Carbonates', 'Iced Tea', 'Sports Drinks RTD', 'Other Soft Drinks'], 'chrysanthemum': ['Iced Tea', 'Other Soft Drinks'], 'cherry,notspecified': ['Juice & Juice Drinks', 'Carbonates', 'Energy Drinks', 'Iced Tea', 'Drink Concentrates & Mixes', 'Bottled Water - Flavoured', 'Other Soft Drinks', 'Iced Coffee', 'Sports Drinks RTD'], 'apple,green': ['Carbonates', 'Bottled Water - Flavoured', 'Juice & Juice Drinks', 'Drink Concentrates & Mixes', 'Energy Drinks', 'Sports Drinks RTD', 'Iced Tea', 'Other Soft Drinks'], 'aloevera': ['Juice & Juice Drinks', 'Other Soft Drinks', 'Drink Concentrates & Mixes', 'Iced Tea', 'Bottled Water - Flavoured'], 'wildberry': ['Juice & Juice Drinks', 'Drink Concentrates & Mixes', 'Iced Tea', 'Energy Drinks', 'Carbonates'], 'chocolate,notspecified': ['Drink Concentrates & Mixes', 'Iced Coffee', 'Sports Drinks RTD', 'Juice & Juice Drinks', 'Carbonates', 'Other Soft Drinks', 'Energy Drinks', 'Bottled Water - Flavoured', 'Sports Powders'], 'champagne': ['Drink Concentrates & Mixes', 'Carbonates'], 'gingerale': ['Carbonates', 'Juice & Juice Drinks', 'Drink Concentrates & Mixes', 'Energy Drinks'], 'mint,notspecified': ['Drink Concentrates & Mixes', 'Juice & Juice Drinks', 'Iced Tea', 'Energy Drinks', 'Other Soft Drinks', 'Bottled Water - Flavoured', 'Carbonates', 'Iced Coffee'], 'jasmine': ['Iced Tea', 'Drink Concentrates & Mixes', 'Carbonates', 'Bottled Water - Flavoured'], 'raspberry,red': ['Carbonates', 'Drink Concentrates & Mixes', 'Iced Tea', 'Juice & Juice Drinks', 'Bottled Water - Flavoured'], 'tomato,red': ['Juice & Juice Drinks', 'Drink Concentrates & Mixes', 'Other Soft Drinks', 'Energy Drinks'], 'nut,almond': ['Drink Concentrates & Mixes', 'Bottled Water - Flavoured', 'Juice & Juice Drinks', 'Iced Coffee', 'Other Soft Drinks'], 'barley': ['Juice & Juice Drinks', 'Carbonates', 'Drink Concentrates & Mixes', 'Other Soft Drinks'], 'berry,berry,blackberry': ['Juice & Juice Drinks', 'Bottled Water - Flavoured', 'Carbonates', 'Other Soft Drinks', 'Drink Concentrates & Mixes', 'Energy Drinks', 'Iced Tea'], 'lemongrass': ['Bottled Water - Flavoured', 'Drink Concentrates & Mixes', 'Iced Tea', 'Juice & Juice Drinks', 'Carbonates', 'Energy Drinks'], 'pear': ['Juice & Juice Drinks', 'Bottled Water - Flavoured', 'Iced Tea', 'Drink Concentrates & Mixes', 'Energy Drinks', 'Carbonates', 'Sports Drinks RTD', 'Other Soft Drinks'], 'grapefruit,red': ['Juice & Juice Drinks', 'Carbonates', 'Drink Concentrates & Mixes', 'Bottled Water - Flavoured', 'Sports Powders'], 'beetroot': ['Juice & Juice Drinks', 'Drink Concentrates & Mixes', 'Iced Tea', 'Other Soft Drinks'], 'cherry,red': ['Juice & Juice Drinks', 'Drink Concentrates & Mixes', 'Iced Tea', 'Carbonates', 'Bottled Water - Flavoured'], 'superfruit,starfruit': ['Juice & Juice Drinks', 'Bottled Water - Flavoured', 'Other Soft Drinks'], 'watermelon': ['Juice & Juice Drinks', 'Drink Concentrates & Mixes', 'Other Soft Drinks', 'Carbonates', 'Bottled Water - Flavoured', 'Iced Tea', 'Energy Drinks', 'Sports Drinks RTD', 'Sports Powders'], 'herbs,notspecified': ['Carbonates', 'Iced Tea', 'Drink Concentrates & Mixes', 'Bottled Water - Flavoured', 'Juice & Juice Drinks'], 'tea,jasmine': ['Iced Tea', 'Drink Concentrates & Mixes', 'Carbonates'], 'prune': ['Juice & Juice Drinks', 'Drink Concentrates & Mixes'], 'cherry,black': ['Juice & Juice Drinks', 'Carbonates', 'Drink Concentrates & Mixes', 'Iced Tea', 'Bottled Water - Flavoured', 'Sports Drinks RTD', 'Energy Drinks', 'Sports Powders'], 'lime,key': ['Carbonates', 'Bottled Water - Flavoured', 'Drink Concentrates & Mixes', 'Juice & Juice Drinks'], 'grape,white': ['Carbonates', 'Juice & Juice Drinks', 'Energy Drinks', 'Drink Concentrates & Mixes', 'Iced Tea', 'Bottled Water - Flavoured', 'Other Soft Drinks'], 'roasted': ['Juice & Juice Drinks', 'Drink Concentrates & Mixes', 'Iced Coffee'], 'thai': ['Iced Tea', 'Iced Coffee', 'Drink Concentrates & Mixes'], 'nut,peanut': ['Other Soft Drinks', 'Energy Drinks', 'Drink Concentrates & Mixes'], 'syrup,notspecified': ['Drink Concentrates & Mixes', 'Juice & Juice Drinks', 'Energy Drinks'], 'italian': ['Carbonates'], 'orange,blood': ['Bottled Water - Flavoured', 'Carbonates', 'Iced Tea', 'Drink Concentrates & Mixes', 'Juice & Juice Drinks', 'Energy Drinks', 'Sports Drinks RTD'], 'lemonade,pink': ['Bottled Water - Flavoured', 'Carbonates', 'Energy Drinks', 'Other Soft Drinks', 'Juice & Juice Drinks', 'Drink Concentrates & Mixes', 'Iced Tea'], 'grapefruit,notspecified': ['Juice & Juice Drinks', 'Bottled Water - Flavoured', 'Carbonates', 'Iced Tea', 'Energy Drinks', 'Drink Concentrates & Mixes', 'Sports Powders'], 'gingko,notspecified': ['Energy Drinks', 'Sports Drinks RTD', 'Iced Tea', 'Bottled Water - Flavoured'], 'chinese': ['Energy Drinks', 'Drink Concentrates & Mixes'], 'spearmint': ['Drink Concentrates & Mixes', 'Iced Tea', 'Juice & Juice Drinks'], 'peppermint': ['Drink Concentrates & Mixes', 'Iced Coffee', 'Iced Tea', 'Bottled Water - Flavoured', 'Energy Drinks', 'Other Soft Drinks', 'Juice & Juice Drinks'], 'tea,herbal': ['Drink Concentrates & Mixes', 'Iced Tea', 'Energy Drinks'], 'cinnamon': ['Drink Concentrates & Mixes', 'Juice & Juice Drinks', 'Other Soft Drinks', 'Iced Tea', 'Bottled Water - Flavoured', 'Iced Coffee', 'Sports Drinks RTD', 'Sports Powders'], 'cardamon': ['Drink Concentrates & Mixes', 'Iced Tea', 'Carbonates', 'Iced Coffee', 'Juice & Juice Drinks', 'Bottled Water - Flavoured'], 'tea,rooibos': ['Drink Concentrates & Mixes', 'Iced Tea', 'Energy Drinks', 'Juice & Juice Drinks', 'Sports Powders', 'Other Soft Drinks'], 'mandarin': ['Drink Concentrates & Mixes', 'Juice & Juice Drinks', 'Other Soft Drinks', 'Carbonates', 'Bottled Water - Flavoured', 'Energy Drinks', 'Sports Drinks RTD', 'Iced Tea'], 'coffee,latte': ['Iced Coffee', 'Iced Tea', 'Drink Concentrates & Mixes', 'Juice & Juice Drinks', 'Energy Drinks'], 'caramel': ['Iced Coffee', 'Drink Concentrates & Mixes', 'Carbonates', 'Juice & Juice Drinks'], 'coffee,espresso': ['Iced Coffee', 'Drink Concentrates & Mixes', 'Energy Drinks', 'Juice & Juice Drinks', 'Carbonates', 'Bottled Water - Flavoured'], 'berry,wildberry': ['Juice & Juice Drinks', 'Iced Tea', 'Bottled Water - Flavoured', 'Drink Concentrates & Mixes', 'Energy Drinks', 'Sports Drinks RTD', 'Other Soft Drinks'], 'tea,oolong': ['Iced Tea', 'Drink Concentrates & Mixes'], 'cherry,wild': ['Carbonates', 'Juice & Juice Drinks', 'Bottled Water - Flavoured', 'Energy Drinks'], 'apricot': ['Juice & Juice Drinks', 'Drink Concentrates & Mixes', 'Energy Drinks', 'Sports Drinks RTD', 'Iced Tea', 'Carbonates', 'Bottled Water - Flavoured', 'Other Soft Drinks'], 'spices,notspecified': ['Juice & Juice Drinks', 'Drink Concentrates & Mixes', 'Carbonates', 'Iced Coffee', 'Other Soft Drinks', 'Iced Tea', 'Sports Drinks RTD'], 'rootbeer': ['Carbonates', 'Other Soft Drinks', 'Drink Concentrates & Mixes', 'Iced Tea'], 'chocolate,belgian': ['Drink Concentrates & Mixes'], 'cocktail,margarita': ['Drink Concentrates & Mixes', 'Carbonates', 'Energy Drinks'], 'cocktail,pinacolada': ['Drink Concentrates & Mixes', 'Juice & Juice Drinks', 'Energy Drinks'], 'indian': ['Energy Drinks', 'Drink Concentrates & Mixes', 'Iced Tea'], 'tea,mate': ['Energy Drinks', 'Drink Concentrates & Mixes', 'Juice & Juice Drinks', 'Other Soft Drinks', 'Iced Coffee', 'Carbonates', 'Iced Tea'], 'cocoa': ['Drink Concentrates & Mixes', 'Iced Tea', 'Juice & Juice Drinks', 'Energy Drinks', 'Iced Coffee', 'Sports Drinks RTD'], 'hibiscus': ['Drink Concentrates & Mixes', 'Juice & Juice Drinks', 'Iced Tea', 'Energy Drinks', 'Carbonates', 'Other Soft Drinks', 'Bottled Water - Flavoured'], 'tea,chamomile': ['Iced Tea', 'Drink Concentrates & Mixes', 'Other Soft Drinks', 'Carbonates'], 'vanilla,french': ['Iced Coffee', 'Drink Concentrates & Mixes', 'Bottled Water - Flavoured'], 'nut,hazelnut': ['Iced Coffee', 'Drink Concentrates & Mixes'], 'cappuccino': ['Iced Coffee', 'Drink Concentrates & Mixes'], 'custard': ['Drink Concentrates & Mixes'], 'cream,notspecified': ['Drink Concentrates & Mixes', 'Energy Drinks', 'Juice & Juice Drinks', 'Iced Coffee', 'Carbonates'], 'nan': ['Drink Concentrates & Mixes', 'Bottled Water - Flavoured'], 'chocolate,mint': ['Drink Concentrates & Mixes'], 'chocolatefudge': ['Drink Concentrates & Mixes', 'Carbonates'], 'butter': ['Drink Concentrates & Mixes'], 'nut,pecan': ['Drink Concentrates & Mixes'], 'french': ['Carbonates', 'Drink Concentrates & Mixes', 'Juice & Juice Drinks'], 'vinegar,applecider': ['Other Soft Drinks', 'Juice & Juice Drinks'], 'chocolate,dark': ['Other Soft Drinks', 'Drink Concentrates & Mixes', 'Iced Tea', 'Juice & Juice Drinks', 'Energy Drinks', 'Iced Coffee'], 'japanese': ['Other Soft Drinks', 'Drink Concentrates & Mixes', 'Iced Tea'], 'superfruit,baobab': ['Juice & Juice Drinks', 'Drink Concentrates & Mixes'], 'noni': ['Juice & Juice Drinks', 'Drink Concentrates & Mixes'], 'superfruit,acerola': ['Juice & Juice Drinks', 'Energy Drinks', 'Bottled Water - Flavoured', 'Drink Concentrates & Mixes', 'Iced Tea'], 'yogurt': ['Drink Concentrates & Mixes', 'Juice & Juice Drinks', 'Iced Coffee'], 'superfruit,calamansi': ['Sports Drinks RTD', 'Juice & Juice Drinks'], 'creamsoda': ['Bottled Water - Flavoured', 'Carbonates'], 'cocktail,daiquiri': ['Drink Concentrates & Mixes'], 'nut,amaretto': ['Drink Concentrates & Mixes'], 'butterscotch': ['Drink Concentrates & Mixes'], 'gingerbread': ['Drink Concentrates & Mixes', 'Carbonates'], 'vinegar,black': ['Other Soft Drinks'], 'superfruit,soursop&guanabana': ['Juice & Juice Drinks', 'Drink Concentrates & Mixes', 'Bottled Water - Flavoured'], 'kombacha': ['Iced Tea', 'Energy Drinks', 'Juice & Juice Drinks', 'Other Soft Drinks'], 'honeydew': ['Iced Tea', 'Drink Concentrates & Mixes', 'Juice & Juice Drinks'], 'beer,notspecified': ['Carbonates'], 'saffron': ['Bottled Water - Flavoured', 'Other Soft Drinks', 'Drink Concentrates & Mixes'], 'kefir': ['Bottled Water - Flavoured', 'Other Soft Drinks'], 'tarragon': ['Bottled Water - Flavoured', 'Other Soft Drinks', 'Iced Tea', 'Juice & Juice Drinks'], 'nectarine': ['Juice & Juice Drinks', 'Energy Drinks', 'Iced Tea', 'Bottled Water - Flavoured'], 'superfruit,pawpaw': ['Iced Tea'], 'wasabi': ['Iced Tea', 'Juice & Juice Drinks', 'Other Soft Drinks', 'Bottled Water - Flavoured'], 'cocktail,bloodymary': ['Drink Concentrates & Mixes', 'Energy Drinks'], 'grapefruit,pink': ['Bottled Water - Flavoured', 'Juice & Juice Drinks', 'Drink Concentrates & Mixes', 'Carbonates', 'Sports Drinks RTD'], 'salt': ['Other Soft Drinks', 'Drink Concentrates & Mixes', 'Juice & Juice Drinks'], 'longan': ['Other Soft Drinks'], 'shellfish,clam': ['Juice & Juice Drinks', 'Drink Concentrates & Mixes'], 'orangeblossom': ['Bottled Water - Flavoured', 'Drink Concentrates & Mixes'], 'rose': ['Bottled Water - Flavoured', 'Drink Concentrates & Mixes', 'Iced Tea', 'Carbonates'], 'liqueur,irishcream': ['Drink Concentrates & Mixes'], 'cider,notspecified': ['Drink Concentrates & Mixes', 'Juice & Juice Drinks', 'Bottled Water - Flavoured', 'Carbonates'], 'malt': ['Carbonates', 'Drink Concentrates & Mixes'], 'pepper,black': ['Other Soft Drinks', 'Juice & Juice Drinks'], 'cucumber': ['Drink Concentrates & Mixes', 'Juice & Juice Drinks', 'Carbonates', 'Bottled Water - Flavoured', 'Sports Drinks RTD'], 'lettuce,romaine': ['Juice & Juice Drinks'], 'celery': ['Juice & Juice Drinks', 'Drink Concentrates & Mixes'], 'kale': ['Juice & Juice Drinks', 'Other Soft Drinks', 'Drink Concentrates & Mixes'], 'canteloupe': ['Drink Concentrates & Mixes', 'Juice & Juice Drinks'], 'berry,elderberry': ['Juice & Juice Drinks', 'Iced Tea', 'Bottled Water - Flavoured'], 'orange,valencia': ['Juice & Juice Drinks', 'Bottled Water - Flavoured', 'Carbonates', 'Iced Tea', 'Drink Concentrates & Mixes'], 'chocolate,white': ['Drink Concentrates & Mixes', 'Energy Drinks'], 'chocolatechip': ['Drink Concentrates & Mixes'], 'cocktail,mintjulep': ['Drink Concentrates & Mixes'], 'elderflower': ['Carbonates', 'Bottled Water - Flavoured', 'Juice & Juice Drinks'], 'raspberry,blue': ['Drink Concentrates & Mixes', 'Juice & Juice Drinks', 'Bottled Water - Flavoured', 'Energy Drinks', 'Carbonates', 'Sports Powders'], 'seeds,hemp': ['Drink Concentrates & Mixes', 'Energy Drinks'], 'superfruit,agave': ['Juice & Juice Drinks', 'Drink Concentrates & Mixes', 'Bottled Water - Flavoured', 'Energy Drinks', 'Iced Tea'], 'cupuacu': ['Energy Drinks', 'Juice & Juice Drinks'], 'superfruit,camucamu': ['Energy Drinks', 'Drink Concentrates & Mixes', 'Bottled Water - Flavoured', 'Sports Powders'], 'bacon,notspecified': ['Drink Concentrates & Mixes', 'Carbonates'], 'sugar,brown': ['Drink Concentrates & Mixes'], 'nut,macadamia': ['Drink Concentrates & Mixes'], 'butterpecan': ['Drink Concentrates & Mixes'], 'cake,cheesecake': ['Drink Concentrates & Mixes'], 'masala': ['Drink Concentrates & Mixes', 'Iced Tea'], 'superfruit,caja': ['Juice & Juice Drinks'], 'liqueur,kahlua': ['Drink Concentrates & Mixes'], 'toffee': ['Drink Concentrates & Mixes', 'Iced Coffee'], 'tiramisu': ['Drink Concentrates & Mixes'], 'seeds,chai': ['Energy Drinks', 'Juice & Juice Drinks', 'Other Soft Drinks', 'Drink Concentrates & Mixes'], 'coffee,lattemacchiatto': ['Iced Coffee'], 'superfruit,jackfruit': ['Juice & Juice Drinks', 'Bottled Water - Flavoured'], 'cottoncandy': ['Drink Concentrates & Mixes', 'Energy Drinks'], 'sugar,caramelized': ['Drink Concentrates & Mixes'], 'apple,grannysmith': ['Drink Concentrates & Mixes', 'Juice & Juice Drinks', 'Bottled Water - Flavoured'], 'maple': ['Drink Concentrates & Mixes', 'Iced Tea', 'Bottled Water - Flavoured', 'Juice & Juice Drinks', 'Carbonates', 'Energy Drinks', 'Other Soft Drinks'], 'praline': ['Drink Concentrates & Mixes'], 'shortbread': ['Drink Concentrates & Mixes'], 'berry,boysenberry': ['Juice & Juice Drinks', 'Carbonates'], 'triplesec': ['Drink Concentrates & Mixes'], 'echinacea': ['Juice & Juice Drinks', 'Energy Drinks'], 'pricklypear': ['Juice & Juice Drinks', 'Other Soft Drinks', 'Drink Concentrates & Mixes', 'Carbonates', 'Bottled Water - Flavoured', 'Sports Drinks RTD'], 'cookiedough': ['Drink Concentrates & Mixes'], 'seeds,poppy': ['Drink Concentrates & Mixes'], 'olive,notspecified': ['Juice & Juice Drinks'], 'grains,matcha': ['Drink Concentrates & Mixes', 'Iced Tea'], 'chili,notspecified': ['Drink Concentrates & Mixes', 'Juice & Juice Drinks', 'Carbonates', 'Bottled Water - Flavoured'], 'pumpkin': ['Drink Concentrates & Mixes', 'Juice & Juice Drinks', 'Carbonates', 'Iced Coffee'], 'caramelsalted': ['Iced Coffee', 'Drink Concentrates & Mixes', 'Carbonates'], 'sage': ['Other Soft Drinks', 'Juice & Juice Drinks', 'Iced Tea', 'Bottled Water - Flavoured'], 'grains,rye': ['Carbonates'], 'tea,rosehip': ['Drink Concentrates & Mixes', 'Iced Tea'], 'rosehip': ['Energy Drinks', 'Other Soft Drinks', 'Drink Concentrates & Mixes', 'Iced Tea'], 'chocolate,dutch': ['Iced Coffee'], 'tea,assam': ['Iced Tea'], 'lavender': ['Juice & Juice Drinks', 'Carbonates', 'Bottled Water - Flavoured', 'Iced Tea', 'Drink Concentrates & Mixes'], 'superfruit,quince': ['Iced Tea', 'Juice & Juice Drinks'], 'grape,green': ['Juice & Juice Drinks', 'Other Soft Drinks'], 'balm,lemon': ['Bottled Water - Flavoured', 'Iced Tea', 'Other Soft Drinks'], 'coffee,java': ['Drink Concentrates & Mixes', 'Energy Drinks', 'Iced Coffee'], 'bubblegum': ['Energy Drinks', 'Bottled Water - Flavoured', 'Drink Concentrates & Mixes', 'Carbonates'], 'oil,notspecified': ['Juice & Juice Drinks', 'Drink Concentrates & Mixes'], 'wine,marsala': ['Drink Concentrates & Mixes'], 'eggnog': ['Drink Concentrates & Mixes', 'Carbonates', 'Juice & Juice Drinks'], 'huckleberry': ['Drink Concentrates & Mixes', 'Bottled Water - Flavoured', 'Carbonates'], 'wintergreen': ['Drink Concentrates & Mixes', 'Carbonates'], 'superfruit,pomelo': ['Juice & Juice Drinks'], 'mushroom,truffle': ['Juice & Juice Drinks'], 'clementine': ['Juice & Juice Drinks', 'Energy Drinks'], 'chocolate,milk': ['Sports Drinks RTD', 'Drink Concentrates & Mixes'], 'bean,cocoa': ['Drink Concentrates & Mixes', 'Iced Tea', 'Juice & Juice Drinks'], 'bergamot': ['Drink Concentrates & Mixes', 'Iced Tea'], 'chocolatechipcookie': ['Drink Concentrates & Mixes'], 'oreo': ['Drink Concentrates & Mixes'], 'caribbean': ['Drink Concentrates & Mixes', 'Other Soft Drinks'], 'plantain': ['Drink Concentrates & Mixes', 'Bottled Water - Flavoured'], 'burdock': ['Other Soft Drinks'], 'superfruit,seabuckthorn': ['Other Soft Drinks', 'Juice & Juice Drinks'], 'marshmallow': ['Drink Concentrates & Mixes'], 'currant,notspecified': ['Drink Concentrates & Mixes'], 'cloves': ['Carbonates', 'Drink Concentrates & Mixes', 'Juice & Juice Drinks', 'Iced Tea', 'Bottled Water - Flavoured', 'Iced Coffee'], 'rhubarb': ['Drink Concentrates & Mixes', 'Carbonates'], 'peanutbutter': ['Drink Concentrates & Mixes', 'Juice & Juice Drinks'], 'cookies&cream': ['Drink Concentrates & Mixes', 'Iced Coffee'], 'sweet&sour': ['Drink Concentrates & Mixes'], 'beer,ginger': ['Carbonates'], 'nutmeg': ['Drink Concentrates & Mixes', 'Iced Coffee', 'Carbonates', 'Iced Tea', 'Other Soft Drinks', 'Juice & Juice Drinks'], 'turmeric': ['Carbonates', 'Drink Concentrates & Mixes', 'Other Soft Drinks', 'Juice & Juice Drinks', 'Iced Tea'], 'superfruit,cactus': ['Drink Concentrates & Mixes', 'Energy Drinks', 'Other Soft Drinks'], 'cherry,sweet': ['Juice & Juice Drinks', 'Carbonates'], 'milk,soy': ['Juice & Juice Drinks', 'Iced Tea'], 'corn,yellow': ['Juice & Juice Drinks'], 'jamaicacherry': ['Juice & Juice Drinks', 'Bottled Water - Flavoured'], 'tamarind': ['Bottled Water - Flavoured', 'Other Soft Drinks', 'Iced Tea', 'Juice & Juice Drinks', 'Carbonates', 'Drink Concentrates & Mixes'], 'tea,kombucha': ['Iced Tea', 'Energy Drinks', 'Juice & Juice Drinks'], 'tea,verbena': ['Iced Tea'], 'raspberry,black': ['Carbonates', 'Bottled Water - Flavoured', 'Juice & Juice Drinks', 'Drink Concentrates & Mixes'], 'wine,white': ['Other Soft Drinks'], 'spinach': ['Juice & Juice Drinks', 'Drink Concentrates & Mixes'], 'broccoli': ['Juice & Juice Drinks'], 'superfruit,yuzu': ['Drink Concentrates & Mixes'], 'coffee,colombia': ['Drink Concentrates & Mixes', 'Iced Coffee'], 'valerian': ['Other Soft Drinks'], 'tea,darjeeling': ['Drink Concentrates & Mixes'], 'tea,earlgrey': ['Drink Concentrates & Mixes'], 'staranise': ['Drink Concentrates & Mixes'], 'dulcedeleche': ['Drink Concentrates & Mixes'], 'rosemary': ['Bottled Water - Flavoured', 'Iced Tea'], 'basil': ['Bottled Water - Flavoured', 'Drink Concentrates & Mixes', 'Juice & Juice Drinks', 'Iced Tea'], 'cream,whipped': ['Iced Coffee'], 'grains,granola': ['Juice & Juice Drinks'], 'cayenne': ['Juice & Juice Drinks', 'Other Soft Drinks', 'Iced Tea', 'Bottled Water - Flavoured'], 'onion,notspecified': ['Juice & Juice Drinks', 'Drink Concentrates & Mixes'], 'cake,redvelvet': ['Drink Concentrates & Mixes'], 'vanilla,bourbon': ['Drink Concentrates & Mixes', 'Juice & Juice Drinks'], 'seeds,sunflower': ['Juice & Juice Drinks', 'Iced Coffee'], 'water': ['Bottled Water - Unflavoured', 'Juice & Juice Drinks', 'Sports Drinks RTD'], 'milk,coconut': ['Juice & Juice Drinks', 'Iced Coffee'], 'sprouts,bean': ['Juice & Juice Drinks', 'Drink Concentrates & Mixes'], 'raisin': ['Juice & Juice Drinks'], 'grains,oats': ['Juice & Juice Drinks', 'Other Soft Drinks'], 'whiskey': ['Carbonates', 'Other Soft Drinks'], 'superfruit,lucuma': ['Drink Concentrates & Mixes'], 'cocktail,mudslide': ['Drink Concentrates & Mixes'], 'berry,red': ['Juice & Juice Drinks', 'Energy Drinks'], 'moroccan': ['Drink Concentrates & Mixes', 'Iced Tea'], 'pepper,notspecified': ['Drink Concentrates & Mixes', 'Juice & Juice Drinks'], 'liqueur,notspecified': ['Drink Concentrates & Mixes'], 'grandmarnier': ['Drink Concentrates & Mixes'], 'seeds,notspecified': ['Drink Concentrates & Mixes', 'Sports Powders', 'Juice & Juice Drinks', 'Bottled Water - Flavoured'], 'seeds,fennel': ['Drink Concentrates & Mixes'], 'wine,notspecified': ['Carbonates'], 'wine,pinot': ['Carbonates'], 'nuts,notspecified': ['Sports Powders', 'Iced Coffee'], 'cherry,morello': ['Drink Concentrates & Mixes', 'Juice & Juice Drinks', 'Carbonates'], 'rosepetal': ['Iced Tea'], 'berry,lingon': ['Carbonates'], 'coffee,darkroast': ['Iced Coffee'], 'cocktail,mojito': ['Drink Concentrates & Mixes', 'Iced Coffee', 'Juice & Juice Drinks'], 'lettuce,notspecified': ['Iced Tea'], 'berry,marion': ['Carbonates', 'Iced Tea', 'Juice & Juice Drinks'], 'tea,matcha': ['Drink Concentrates & Mixes', 'Iced Tea', 'Sports Powders'], 'squash,butternut': ['Juice & Juice Drinks', 'Drink Concentrates & Mixes'], 'grains,chai': ['Energy Drinks'], 'superfruit,goldenberry': ['Drink Concentrates & Mixes', 'Sports Powders'], 'nettle': ['Iced Tea'], 'vinegar,cider': ['Other Soft Drinks'], 'soy,notspecified': ['Iced Tea'], 'mushroom,notspecified': ['Bottled Water - Flavoured'], 'grains,chia': ['Energy Drinks', 'Juice & Juice Drinks', 'Other Soft Drinks', 'Iced Tea'], 'potato,sweet': ['Juice & Juice Drinks'], 'wine,chardonnay': ['Juice & Juice Drinks'], 'cherry,sour': ['Juice & Juice Drinks', 'Drink Concentrates & Mixes', 'Bottled Water - Flavoured'], 'worcestershire': ['Juice & Juice Drinks'], 'caraway': ['Iced Coffee'], 'mango,green': ['Iced Tea'], 'mabolo': ['Iced Tea'], 'berry,moringa': ['Iced Tea'], 'sea,salt': ['Juice & Juice Drinks'], 'date': ['Juice & Juice Drinks'], 'cabbage,notspecified': ['Juice & Juice Drinks'], 'parsley': ['Juice & Juice Drinks'], 'chili,jalapeno': ['Drink Concentrates & Mixes', 'Juice & Juice Drinks'], 'allspice': ['Carbonates'], 'chicken,fried': ['Drink Concentrates & Mixes'], 'buttermilk': ['Drink Concentrates & Mixes'], 'aniseed': ['Iced Tea'], 'peas,notspecified': ['Bottled Water - Flavoured', 'Other Soft Drinks'], 'rice,notspecified': ['Drink Concentrates & Mixes'], 'bilberry': ['Iced Tea'], 'chili,habanero': ['Juice & Juice Drinks'], 'pea,notspecified': ['Juice & Juice Drinks'], 'molokhia': ['Juice & Juice Drinks'], 'wine,sangria': ['Drink Concentrates & Mixes'], 'licorice': ['Bottled Water - Flavoured', 'Carbonates', 'Juice & Juice Drinks'], 'beer,ale': ['Drink Concentrates & Mixes'], 'beer,paleale': ['Drink Concentrates & Mixes'], 'cocktail,caipirinha': ['Drink Concentrates & Mixes'], 'wine,pinotgrigio': ['Drink Concentrates & Mixes'], 'vanilla,tahitian': ['Drink Concentrates & Mixes'], 'bluecurrant': ['Drink Concentrates & Mixes', 'Juice & Juice Drinks'], 'cherry,beach': ['Juice & Juice Drinks'], 'whiskey,notspecified': ['Carbonates'], 'melissa': ['Iced Tea'], 'cake,notspecified': ['Drink Concentrates & Mixes'], \"s'mores\": ['Drink Concentrates & Mixes'], 'grains,amaranth': ['Juice & Juice Drinks'], 'coffee,mochajava': ['Energy Drinks'], 'garlic,notspecified': ['Juice & Juice Drinks'], 'fennel': ['Juice & Juice Drinks'], 'cider,apple': ['Juice & Juice Drinks', 'Drink Concentrates & Mixes', 'Other Soft Drinks', 'Iced Tea'], 'juniper': ['Iced Tea'], 'geranium': ['Bottled Water - Flavoured'], 'cherryapple': ['Juice & Juice Drinks'], 'candycorn': ['Carbonates'], 'hickory': ['Drink Concentrates & Mixes'], 'smoked': ['Drink Concentrates & Mixes'], 'chocolatehazelnut': ['Energy Drinks'], 'superfruit,maqui(chileanwineberry)': ['Energy Drinks'], 'grains,quinoa': ['Other Soft Drinks'], 'superfruit,cherimoya': ['Bottled Water - Flavoured'], 'acacia': ['Juice & Juice Drinks', 'Bottled Water - Flavoured'], 'dandelion': ['Drink Concentrates & Mixes', 'Juice & Juice Drinks'], 'anise': ['Drink Concentrates & Mixes'], 'taro': ['Drink Concentrates & Mixes'], 'birchtree': ['Carbonates', 'Juice & Juice Drinks'], 'spirit,martini': ['Drink Concentrates & Mixes'], 'superfruit,mulberry': ['Juice & Juice Drinks'], 'carob': ['Energy Drinks'], 'curcumin': ['Other Soft Drinks'], 'wine,cabernetsauvignon': ['Juice & Juice Drinks'], 'orange,sweet': ['Juice & Juice Drinks'], 'chocolate,truffle': ['Energy Drinks'], 'coffee,marocchino': ['Iced Coffee'], 'cocktail,notspecified': ['Drink Concentrates & Mixes'], 'tumeric': ['Juice & Juice Drinks'], 'grains,wholegrain': ['Juice & Juice Drinks'], 'seeds,flaxseed': ['Juice & Juice Drinks'], 'morel': ['Energy Drinks'], 'redcurrant': ['Juice & Juice Drinks'], 'oregano': ['Juice & Juice Drinks'], 'spices,multi': ['Juice & Juice Drinks'], 'gin': ['Juice & Juice Drinks'], 'oil,olive': ['Juice & Juice Drinks'], 'bean,chicory': ['Iced Coffee'], 'grape,black': ['Juice & Juice Drinks', 'Bottled Water - Flavoured'], 'tomatillo': ['Juice & Juice Drinks'], 'yam,notspecified': ['Juice & Juice Drinks'], 'collardgreens': ['Juice & Juice Drinks'], 'cream,sweet': ['Iced Coffee'], 'coffee,robusta': ['Energy Drinks'], 'potato,purple': ['Juice & Juice Drinks'], 'lemon,bitter': ['Drink Concentrates & Mixes'], 'sugar,white': ['Iced Tea'], 'tequila,notspecified': ['Iced Tea'], 'cabbage,white': ['Juice & Juice Drinks'], 'artichoke': ['Bottled Water - Flavoured'], 'fruit,camucamu': ['Energy Drinks'], 'cabbage,green': ['Juice & Juice Drinks'], 'seeds,pumpkin': ['Iced Coffee'], 'watercress': ['Juice & Juice Drinks'], 'pea,green': ['Other Soft Drinks'], 'mesquite': ['Drink Concentrates & Mixes'], 'caffeine': ['Energy Drinks'], 'cumin': ['Juice & Juice Drinks'], 'nut,cashew': ['Juice & Juice Drinks', 'Iced Coffee'], 'nashipear': ['Carbonates'], 'cake,blackforest': ['Iced Tea'], 'avocado': ['Juice & Juice Drinks'], 'swisschard': ['Juice & Juice Drinks'], 'cabbage,chinese': ['Juice & Juice Drinks'], 'apple,golden': ['Juice & Juice Drinks'], 'pie,apple': ['Juice & Juice Drinks'], 'mint,black': ['Iced Tea'], 'mocha': ['Iced Coffee'], 'oats,oatmeal': ['Other Soft Drinks'], 'sriracha': ['Drink Concentrates & Mixes'], 'dill': ['Drink Concentrates & Mixes'], 'pickle': ['Energy Drinks'], 'nougat': ['Drink Concentrates & Mixes'], 'soda': ['Carbonates']}\n"
          ]
        }
      ]
    },
    {
      "cell_type": "code",
      "source": [
        "print(len(sub_list))\n",
        "sub_count  = my_dictionary()\n",
        "for x in sub_list :\n",
        "  # print( x + str(sub_list[x]) + str(len(sub_list[x]))\n",
        "  sub_count.add(x,len(sub_list[x]));\n",
        "\n",
        "# a = list(sorted(sub_list, key = len))\n",
        "# print(a)\n",
        "# first = list(a)[:10]\n",
        "# print(first)\n",
        "# for y in first : print(y)\n",
        "print((len(sub_count)))"
      ],
      "metadata": {
        "colab": {
          "base_uri": "https://localhost:8080/"
        },
        "id": "uhhuWR0tXG_j",
        "outputId": "60b23bf6-0c9f-4e06-b2b6-064c2af50fd2"
      },
      "execution_count": 34,
      "outputs": [
        {
          "output_type": "stream",
          "name": "stdout",
          "text": [
            "439\n",
            "439\n"
          ]
        }
      ]
    },
    {
      "cell_type": "markdown",
      "source": [
        "Top Emerging Flavors in North America"
      ],
      "metadata": {
        "id": "xyGKkZKG4w1t"
      }
    },
    {
      "cell_type": "code",
      "source": [
        "#print(len(sub_count))\n",
        "a = sorted(sub_count.items(), key= lambda x: x[1], reverse=True)\n",
        "first = list(a)[:20]\n",
        "# print(first)\n",
        "for y in first : print(y)"
      ],
      "metadata": {
        "colab": {
          "base_uri": "https://localhost:8080/"
        },
        "id": "_RZCvS4_asb3",
        "outputId": "7360a3eb-ac17-4e6d-e203-31dfbdd8f98b"
      },
      "execution_count": 42,
      "outputs": [
        {
          "output_type": "stream",
          "name": "stdout",
          "text": [
            "('coconut', 10)\n",
            "('strawberry', 10)\n",
            "('lemonade', 10)\n",
            "('lime', 10)\n",
            "('berry,blueberry', 10)\n",
            "('superfruit,acai', 10)\n",
            "('unflavored', 10)\n",
            "('superfruit,pomegranate', 10)\n",
            "('orange,notspecified', 10)\n",
            "('lemon', 10)\n",
            "('tea,green', 10)\n",
            "('lemon-lime', 10)\n",
            "('raspberry,notspecified', 10)\n",
            "('citrus,notspecified', 10)\n",
            "('berry,notspecified', 9)\n",
            "('mango', 9)\n",
            "('kiwi', 9)\n",
            "('vanilla,notspecified', 9)\n",
            "('fruit,notspecified', 9)\n",
            "('tropicalfruit,notspecified', 9)\n"
          ]
        }
      ]
    },
    {
      "cell_type": "markdown",
      "source": [
        "Sub-List of a particular Flavor"
      ],
      "metadata": {
        "id": "vMASkcYWwqXd"
      }
    },
    {
      "cell_type": "code",
      "source": [
        "print(sub_list[\"citrus,notspecified\"]);"
      ],
      "metadata": {
        "colab": {
          "base_uri": "https://localhost:8080/"
        },
        "id": "nyUa3AkqbY6O",
        "outputId": "d5b377c0-cc7b-4431-d084-4369d5e4e3b7"
      },
      "execution_count": 36,
      "outputs": [
        {
          "output_type": "stream",
          "name": "stdout",
          "text": [
            "['Bottled Water - Flavoured', 'Juice & Juice Drinks', 'Iced Tea', 'Energy Drinks', 'Drink Concentrates & Mixes', 'Carbonates', 'Sports Drinks RTD', 'Other Soft Drinks', 'Sports Powders', 'Iced Coffee']\n"
          ]
        }
      ]
    },
    {
      "cell_type": "markdown",
      "source": [
        "How often a particular flavor is used either individually or mixed"
      ],
      "metadata": {
        "id": "XO4qBD55wwTW"
      }
    },
    {
      "cell_type": "code",
      "source": [
        "a = sorted(fla_obj.items(), key= lambda x: x[1], reverse=True)\n",
        "first = list(a)[:10]\n",
        "# print(first)\n",
        "for y in first : print(y)"
      ],
      "metadata": {
        "colab": {
          "base_uri": "https://localhost:8080/"
        },
        "id": "4TJvtMLG__0m",
        "outputId": "dbfc6b19-2554-461e-e22d-00ff836227f0"
      },
      "execution_count": 38,
      "outputs": [
        {
          "output_type": "stream",
          "name": "stdout",
          "text": [
            "('orange,notspecified', 958)\n",
            "('mango', 661)\n",
            "('apple,red', 649)\n",
            "('lemon', 622)\n",
            "('unflavored', 615)\n",
            "('tea,green', 607)\n",
            "('superfruit,pomegranate', 604)\n",
            "('strawberry', 600)\n",
            "('lemonade', 553)\n",
            "('coconut', 526)\n"
          ]
        }
      ]
    },
    {
      "cell_type": "code",
      "source": [],
      "metadata": {
        "id": "-fsyXWSF__yP"
      },
      "execution_count": null,
      "outputs": []
    }
  ]
}